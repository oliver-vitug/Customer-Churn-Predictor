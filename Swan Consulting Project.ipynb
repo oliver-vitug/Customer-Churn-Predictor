{
 "cells": [
  {
   "cell_type": "code",
   "execution_count": 1,
   "id": "5e38b711",
   "metadata": {},
   "outputs": [],
   "source": [
    "# The Big 4\n",
    "import numpy as np\n",
    "import seaborn as sns\n",
    "import matplotlib.pyplot as plt\n",
    "import pandas as pd\n",
    "\n",
    "# stepwise\n",
    "import statsmodels.api as sm \n",
    "\n",
    "# Model performance metrics\n",
    "from sklearn import metrics\n",
    "\n",
    "# Sklearn model tools\n",
    "from sklearn.linear_model import LogisticRegression\n",
    "from sklearn.tree import DecisionTreeClassifier\n",
    "from sklearn.model_selection import train_test_split, cross_val_score, GridSearchCV\n",
    "from sklearn.metrics import confusion_matrix, accuracy_score\n",
    "from sklearn.tree import plot_tree\n",
    "\n",
    "# ensemble models\n",
    "from sklearn.ensemble import BaggingClassifier\n",
    "from sklearn.ensemble import RandomForestClassifier, ExtraTreesClassifier\n",
    "\n",
    "# random oversampling\n",
    "from imblearn.over_sampling import RandomOverSampler"
   ]
  },
  {
   "cell_type": "code",
   "execution_count": 2,
   "id": "5ebb56ae",
   "metadata": {},
   "outputs": [],
   "source": [
    "df = pd.read_csv(\"1 - Project Data.csv\")"
   ]
  },
  {
   "cell_type": "code",
   "execution_count": 3,
   "id": "9e3599e7",
   "metadata": {
    "scrolled": true
   },
   "outputs": [
    {
     "data": {
      "text/html": [
       "<div>\n",
       "<style scoped>\n",
       "    .dataframe tbody tr th:only-of-type {\n",
       "        vertical-align: middle;\n",
       "    }\n",
       "\n",
       "    .dataframe tbody tr th {\n",
       "        vertical-align: top;\n",
       "    }\n",
       "\n",
       "    .dataframe thead th {\n",
       "        text-align: right;\n",
       "    }\n",
       "</style>\n",
       "<table border=\"1\" class=\"dataframe\">\n",
       "  <thead>\n",
       "    <tr style=\"text-align: right;\">\n",
       "      <th></th>\n",
       "      <th>CustomerID</th>\n",
       "      <th>Count</th>\n",
       "      <th>Country</th>\n",
       "      <th>State</th>\n",
       "      <th>City</th>\n",
       "      <th>Zip Code</th>\n",
       "      <th>Lat Long</th>\n",
       "      <th>Latitude</th>\n",
       "      <th>Longitude</th>\n",
       "      <th>Gender</th>\n",
       "      <th>...</th>\n",
       "      <th>Streaming TV</th>\n",
       "      <th>Streaming Movies</th>\n",
       "      <th>Contract</th>\n",
       "      <th>Paperless Billing</th>\n",
       "      <th>Payment Method</th>\n",
       "      <th>Monthly Charges</th>\n",
       "      <th>Total Charges</th>\n",
       "      <th>Churn Label</th>\n",
       "      <th>Churn Value</th>\n",
       "      <th>Churn Reason</th>\n",
       "    </tr>\n",
       "  </thead>\n",
       "  <tbody>\n",
       "    <tr>\n",
       "      <th>0</th>\n",
       "      <td>3668-QPYBK</td>\n",
       "      <td>1</td>\n",
       "      <td>United States</td>\n",
       "      <td>California</td>\n",
       "      <td>Los Angeles</td>\n",
       "      <td>90003</td>\n",
       "      <td>33.964131, -118.272783</td>\n",
       "      <td>33.964131</td>\n",
       "      <td>-118.272783</td>\n",
       "      <td>Male</td>\n",
       "      <td>...</td>\n",
       "      <td>No</td>\n",
       "      <td>No</td>\n",
       "      <td>Month-to-month</td>\n",
       "      <td>Yes</td>\n",
       "      <td>Mailed check</td>\n",
       "      <td>53.85</td>\n",
       "      <td>108.15</td>\n",
       "      <td>Yes</td>\n",
       "      <td>1</td>\n",
       "      <td>Competitor made better offer</td>\n",
       "    </tr>\n",
       "    <tr>\n",
       "      <th>1</th>\n",
       "      <td>9237-HQITU</td>\n",
       "      <td>1</td>\n",
       "      <td>United States</td>\n",
       "      <td>California</td>\n",
       "      <td>Los Angeles</td>\n",
       "      <td>90005</td>\n",
       "      <td>34.059281, -118.30742</td>\n",
       "      <td>34.059281</td>\n",
       "      <td>-118.307420</td>\n",
       "      <td>Female</td>\n",
       "      <td>...</td>\n",
       "      <td>No</td>\n",
       "      <td>No</td>\n",
       "      <td>Month-to-month</td>\n",
       "      <td>Yes</td>\n",
       "      <td>Electronic check</td>\n",
       "      <td>70.70</td>\n",
       "      <td>151.65</td>\n",
       "      <td>Yes</td>\n",
       "      <td>1</td>\n",
       "      <td>Moved</td>\n",
       "    </tr>\n",
       "    <tr>\n",
       "      <th>2</th>\n",
       "      <td>9305-CDSKC</td>\n",
       "      <td>1</td>\n",
       "      <td>United States</td>\n",
       "      <td>California</td>\n",
       "      <td>Los Angeles</td>\n",
       "      <td>90006</td>\n",
       "      <td>34.048013, -118.293953</td>\n",
       "      <td>34.048013</td>\n",
       "      <td>-118.293953</td>\n",
       "      <td>Female</td>\n",
       "      <td>...</td>\n",
       "      <td>Yes</td>\n",
       "      <td>Yes</td>\n",
       "      <td>Month-to-month</td>\n",
       "      <td>Yes</td>\n",
       "      <td>Electronic check</td>\n",
       "      <td>99.65</td>\n",
       "      <td>820.5</td>\n",
       "      <td>Yes</td>\n",
       "      <td>1</td>\n",
       "      <td>Moved</td>\n",
       "    </tr>\n",
       "    <tr>\n",
       "      <th>3</th>\n",
       "      <td>7892-POOKP</td>\n",
       "      <td>1</td>\n",
       "      <td>United States</td>\n",
       "      <td>California</td>\n",
       "      <td>Los Angeles</td>\n",
       "      <td>90010</td>\n",
       "      <td>34.062125, -118.315709</td>\n",
       "      <td>34.062125</td>\n",
       "      <td>-118.315709</td>\n",
       "      <td>Female</td>\n",
       "      <td>...</td>\n",
       "      <td>Yes</td>\n",
       "      <td>Yes</td>\n",
       "      <td>Month-to-month</td>\n",
       "      <td>Yes</td>\n",
       "      <td>Electronic check</td>\n",
       "      <td>104.80</td>\n",
       "      <td>3046.05</td>\n",
       "      <td>Yes</td>\n",
       "      <td>1</td>\n",
       "      <td>Moved</td>\n",
       "    </tr>\n",
       "    <tr>\n",
       "      <th>4</th>\n",
       "      <td>0280-XJGEX</td>\n",
       "      <td>1</td>\n",
       "      <td>United States</td>\n",
       "      <td>California</td>\n",
       "      <td>Los Angeles</td>\n",
       "      <td>90015</td>\n",
       "      <td>34.039224, -118.266293</td>\n",
       "      <td>34.039224</td>\n",
       "      <td>-118.266293</td>\n",
       "      <td>Male</td>\n",
       "      <td>...</td>\n",
       "      <td>Yes</td>\n",
       "      <td>Yes</td>\n",
       "      <td>Month-to-month</td>\n",
       "      <td>Yes</td>\n",
       "      <td>Bank transfer (automatic)</td>\n",
       "      <td>103.70</td>\n",
       "      <td>5036.3</td>\n",
       "      <td>Yes</td>\n",
       "      <td>1</td>\n",
       "      <td>Competitor had better devices</td>\n",
       "    </tr>\n",
       "    <tr>\n",
       "      <th>...</th>\n",
       "      <td>...</td>\n",
       "      <td>...</td>\n",
       "      <td>...</td>\n",
       "      <td>...</td>\n",
       "      <td>...</td>\n",
       "      <td>...</td>\n",
       "      <td>...</td>\n",
       "      <td>...</td>\n",
       "      <td>...</td>\n",
       "      <td>...</td>\n",
       "      <td>...</td>\n",
       "      <td>...</td>\n",
       "      <td>...</td>\n",
       "      <td>...</td>\n",
       "      <td>...</td>\n",
       "      <td>...</td>\n",
       "      <td>...</td>\n",
       "      <td>...</td>\n",
       "      <td>...</td>\n",
       "      <td>...</td>\n",
       "      <td>...</td>\n",
       "    </tr>\n",
       "    <tr>\n",
       "      <th>7038</th>\n",
       "      <td>2569-WGERO</td>\n",
       "      <td>1</td>\n",
       "      <td>United States</td>\n",
       "      <td>California</td>\n",
       "      <td>Landers</td>\n",
       "      <td>92285</td>\n",
       "      <td>34.341737, -116.539416</td>\n",
       "      <td>34.341737</td>\n",
       "      <td>-116.539416</td>\n",
       "      <td>Female</td>\n",
       "      <td>...</td>\n",
       "      <td>No internet service</td>\n",
       "      <td>No internet service</td>\n",
       "      <td>Two year</td>\n",
       "      <td>Yes</td>\n",
       "      <td>Bank transfer (automatic)</td>\n",
       "      <td>21.15</td>\n",
       "      <td>1419.4</td>\n",
       "      <td>No</td>\n",
       "      <td>0</td>\n",
       "      <td>NaN</td>\n",
       "    </tr>\n",
       "    <tr>\n",
       "      <th>7039</th>\n",
       "      <td>6840-RESVB</td>\n",
       "      <td>1</td>\n",
       "      <td>United States</td>\n",
       "      <td>California</td>\n",
       "      <td>Adelanto</td>\n",
       "      <td>92301</td>\n",
       "      <td>34.667815, -117.536183</td>\n",
       "      <td>34.667815</td>\n",
       "      <td>-117.536183</td>\n",
       "      <td>Male</td>\n",
       "      <td>...</td>\n",
       "      <td>Yes</td>\n",
       "      <td>Yes</td>\n",
       "      <td>One year</td>\n",
       "      <td>Yes</td>\n",
       "      <td>Mailed check</td>\n",
       "      <td>84.80</td>\n",
       "      <td>1990.5</td>\n",
       "      <td>No</td>\n",
       "      <td>0</td>\n",
       "      <td>NaN</td>\n",
       "    </tr>\n",
       "    <tr>\n",
       "      <th>7040</th>\n",
       "      <td>2234-XADUH</td>\n",
       "      <td>1</td>\n",
       "      <td>United States</td>\n",
       "      <td>California</td>\n",
       "      <td>Amboy</td>\n",
       "      <td>92304</td>\n",
       "      <td>34.559882, -115.637164</td>\n",
       "      <td>34.559882</td>\n",
       "      <td>-115.637164</td>\n",
       "      <td>Female</td>\n",
       "      <td>...</td>\n",
       "      <td>Yes</td>\n",
       "      <td>Yes</td>\n",
       "      <td>One year</td>\n",
       "      <td>Yes</td>\n",
       "      <td>Credit card (automatic)</td>\n",
       "      <td>103.20</td>\n",
       "      <td>7362.9</td>\n",
       "      <td>No</td>\n",
       "      <td>0</td>\n",
       "      <td>NaN</td>\n",
       "    </tr>\n",
       "    <tr>\n",
       "      <th>7041</th>\n",
       "      <td>4801-JZAZL</td>\n",
       "      <td>1</td>\n",
       "      <td>United States</td>\n",
       "      <td>California</td>\n",
       "      <td>Angelus Oaks</td>\n",
       "      <td>92305</td>\n",
       "      <td>34.1678, -116.86433</td>\n",
       "      <td>34.167800</td>\n",
       "      <td>-116.864330</td>\n",
       "      <td>Female</td>\n",
       "      <td>...</td>\n",
       "      <td>No</td>\n",
       "      <td>No</td>\n",
       "      <td>Month-to-month</td>\n",
       "      <td>Yes</td>\n",
       "      <td>Electronic check</td>\n",
       "      <td>29.60</td>\n",
       "      <td>346.45</td>\n",
       "      <td>No</td>\n",
       "      <td>0</td>\n",
       "      <td>NaN</td>\n",
       "    </tr>\n",
       "    <tr>\n",
       "      <th>7042</th>\n",
       "      <td>3186-AJIEK</td>\n",
       "      <td>1</td>\n",
       "      <td>United States</td>\n",
       "      <td>California</td>\n",
       "      <td>Apple Valley</td>\n",
       "      <td>92308</td>\n",
       "      <td>34.424926, -117.184503</td>\n",
       "      <td>34.424926</td>\n",
       "      <td>-117.184503</td>\n",
       "      <td>Male</td>\n",
       "      <td>...</td>\n",
       "      <td>Yes</td>\n",
       "      <td>Yes</td>\n",
       "      <td>Two year</td>\n",
       "      <td>Yes</td>\n",
       "      <td>Bank transfer (automatic)</td>\n",
       "      <td>105.65</td>\n",
       "      <td>6844.5</td>\n",
       "      <td>No</td>\n",
       "      <td>0</td>\n",
       "      <td>NaN</td>\n",
       "    </tr>\n",
       "  </tbody>\n",
       "</table>\n",
       "<p>7043 rows × 31 columns</p>\n",
       "</div>"
      ],
      "text/plain": [
       "      CustomerID  Count        Country       State          City  Zip Code  \\\n",
       "0     3668-QPYBK      1  United States  California   Los Angeles     90003   \n",
       "1     9237-HQITU      1  United States  California   Los Angeles     90005   \n",
       "2     9305-CDSKC      1  United States  California   Los Angeles     90006   \n",
       "3     7892-POOKP      1  United States  California   Los Angeles     90010   \n",
       "4     0280-XJGEX      1  United States  California   Los Angeles     90015   \n",
       "...          ...    ...            ...         ...           ...       ...   \n",
       "7038  2569-WGERO      1  United States  California       Landers     92285   \n",
       "7039  6840-RESVB      1  United States  California      Adelanto     92301   \n",
       "7040  2234-XADUH      1  United States  California         Amboy     92304   \n",
       "7041  4801-JZAZL      1  United States  California  Angelus Oaks     92305   \n",
       "7042  3186-AJIEK      1  United States  California  Apple Valley     92308   \n",
       "\n",
       "                    Lat Long   Latitude   Longitude  Gender  ...  \\\n",
       "0     33.964131, -118.272783  33.964131 -118.272783    Male  ...   \n",
       "1      34.059281, -118.30742  34.059281 -118.307420  Female  ...   \n",
       "2     34.048013, -118.293953  34.048013 -118.293953  Female  ...   \n",
       "3     34.062125, -118.315709  34.062125 -118.315709  Female  ...   \n",
       "4     34.039224, -118.266293  34.039224 -118.266293    Male  ...   \n",
       "...                      ...        ...         ...     ...  ...   \n",
       "7038  34.341737, -116.539416  34.341737 -116.539416  Female  ...   \n",
       "7039  34.667815, -117.536183  34.667815 -117.536183    Male  ...   \n",
       "7040  34.559882, -115.637164  34.559882 -115.637164  Female  ...   \n",
       "7041     34.1678, -116.86433  34.167800 -116.864330  Female  ...   \n",
       "7042  34.424926, -117.184503  34.424926 -117.184503    Male  ...   \n",
       "\n",
       "             Streaming TV     Streaming Movies        Contract  \\\n",
       "0                      No                   No  Month-to-month   \n",
       "1                      No                   No  Month-to-month   \n",
       "2                     Yes                  Yes  Month-to-month   \n",
       "3                     Yes                  Yes  Month-to-month   \n",
       "4                     Yes                  Yes  Month-to-month   \n",
       "...                   ...                  ...             ...   \n",
       "7038  No internet service  No internet service        Two year   \n",
       "7039                  Yes                  Yes        One year   \n",
       "7040                  Yes                  Yes        One year   \n",
       "7041                   No                   No  Month-to-month   \n",
       "7042                  Yes                  Yes        Two year   \n",
       "\n",
       "      Paperless Billing             Payment Method Monthly Charges  \\\n",
       "0                   Yes               Mailed check           53.85   \n",
       "1                   Yes           Electronic check           70.70   \n",
       "2                   Yes           Electronic check           99.65   \n",
       "3                   Yes           Electronic check          104.80   \n",
       "4                   Yes  Bank transfer (automatic)          103.70   \n",
       "...                 ...                        ...             ...   \n",
       "7038                Yes  Bank transfer (automatic)           21.15   \n",
       "7039                Yes               Mailed check           84.80   \n",
       "7040                Yes    Credit card (automatic)          103.20   \n",
       "7041                Yes           Electronic check           29.60   \n",
       "7042                Yes  Bank transfer (automatic)          105.65   \n",
       "\n",
       "     Total Charges Churn Label Churn Value                   Churn Reason  \n",
       "0           108.15         Yes           1   Competitor made better offer  \n",
       "1           151.65         Yes           1                          Moved  \n",
       "2            820.5         Yes           1                          Moved  \n",
       "3          3046.05         Yes           1                          Moved  \n",
       "4           5036.3         Yes           1  Competitor had better devices  \n",
       "...            ...         ...         ...                            ...  \n",
       "7038        1419.4          No           0                            NaN  \n",
       "7039        1990.5          No           0                            NaN  \n",
       "7040        7362.9          No           0                            NaN  \n",
       "7041        346.45          No           0                            NaN  \n",
       "7042        6844.5          No           0                            NaN  \n",
       "\n",
       "[7043 rows x 31 columns]"
      ]
     },
     "execution_count": 3,
     "metadata": {},
     "output_type": "execute_result"
    }
   ],
   "source": [
    "df"
   ]
  },
  {
   "cell_type": "markdown",
   "id": "099a4d0e",
   "metadata": {},
   "source": [
    "<h1>Data Cleaning and Initial Observations</h1>"
   ]
  },
  {
   "cell_type": "code",
   "execution_count": 4,
   "id": "a0510d9b",
   "metadata": {},
   "outputs": [
    {
     "data": {
      "text/plain": [
       "array(['Competitor made better offer', 'Moved',\n",
       "       'Competitor had better devices',\n",
       "       'Competitor offered higher download speeds',\n",
       "       'Competitor offered more data', 'Price too high',\n",
       "       'Product dissatisfaction', 'Service dissatisfaction',\n",
       "       'Lack of self-service on Website', 'Network reliability',\n",
       "       'Limited range of services',\n",
       "       'Lack of affordable download/upload speed',\n",
       "       'Long distance charges', 'Extra data charges', \"Don't know\",\n",
       "       'Poor expertise of online support',\n",
       "       'Poor expertise of phone support', 'Attitude of service provider',\n",
       "       'Attitude of support person', 'Deceased', nan], dtype=object)"
      ]
     },
     "execution_count": 4,
     "metadata": {},
     "output_type": "execute_result"
    }
   ],
   "source": [
    "df['Churn Reason'].unique()"
   ]
  },
  {
   "cell_type": "code",
   "execution_count": 5,
   "id": "e79d0be2",
   "metadata": {
    "scrolled": true
   },
   "outputs": [
    {
     "data": {
      "text/plain": [
       "20"
      ]
     },
     "execution_count": 5,
     "metadata": {},
     "output_type": "execute_result"
    }
   ],
   "source": [
    "df['Churn Reason'].nunique()"
   ]
  },
  {
   "cell_type": "code",
   "execution_count": 6,
   "id": "06bd0ea3",
   "metadata": {
    "scrolled": true
   },
   "outputs": [
    {
     "data": {
      "text/html": [
       "<div>\n",
       "<style scoped>\n",
       "    .dataframe tbody tr th:only-of-type {\n",
       "        vertical-align: middle;\n",
       "    }\n",
       "\n",
       "    .dataframe tbody tr th {\n",
       "        vertical-align: top;\n",
       "    }\n",
       "\n",
       "    .dataframe thead th {\n",
       "        text-align: right;\n",
       "    }\n",
       "</style>\n",
       "<table border=\"1\" class=\"dataframe\">\n",
       "  <thead>\n",
       "    <tr style=\"text-align: right;\">\n",
       "      <th></th>\n",
       "      <th>Count</th>\n",
       "      <th>Zip Code</th>\n",
       "      <th>Latitude</th>\n",
       "      <th>Longitude</th>\n",
       "      <th>Tenure Months</th>\n",
       "      <th>Monthly Charges</th>\n",
       "      <th>Churn Value</th>\n",
       "    </tr>\n",
       "  </thead>\n",
       "  <tbody>\n",
       "    <tr>\n",
       "      <th>count</th>\n",
       "      <td>7043.0</td>\n",
       "      <td>7043.000000</td>\n",
       "      <td>7043.000000</td>\n",
       "      <td>7043.000000</td>\n",
       "      <td>7043.000000</td>\n",
       "      <td>7043.000000</td>\n",
       "      <td>7043.000000</td>\n",
       "    </tr>\n",
       "    <tr>\n",
       "      <th>mean</th>\n",
       "      <td>1.0</td>\n",
       "      <td>93521.964646</td>\n",
       "      <td>36.282441</td>\n",
       "      <td>-119.798880</td>\n",
       "      <td>32.371149</td>\n",
       "      <td>64.761692</td>\n",
       "      <td>0.265370</td>\n",
       "    </tr>\n",
       "    <tr>\n",
       "      <th>std</th>\n",
       "      <td>0.0</td>\n",
       "      <td>1865.794555</td>\n",
       "      <td>2.455723</td>\n",
       "      <td>2.157889</td>\n",
       "      <td>24.559481</td>\n",
       "      <td>30.090047</td>\n",
       "      <td>0.441561</td>\n",
       "    </tr>\n",
       "    <tr>\n",
       "      <th>min</th>\n",
       "      <td>1.0</td>\n",
       "      <td>90001.000000</td>\n",
       "      <td>32.555828</td>\n",
       "      <td>-124.301372</td>\n",
       "      <td>0.000000</td>\n",
       "      <td>18.250000</td>\n",
       "      <td>0.000000</td>\n",
       "    </tr>\n",
       "    <tr>\n",
       "      <th>25%</th>\n",
       "      <td>1.0</td>\n",
       "      <td>92102.000000</td>\n",
       "      <td>34.030915</td>\n",
       "      <td>-121.815412</td>\n",
       "      <td>9.000000</td>\n",
       "      <td>35.500000</td>\n",
       "      <td>0.000000</td>\n",
       "    </tr>\n",
       "    <tr>\n",
       "      <th>50%</th>\n",
       "      <td>1.0</td>\n",
       "      <td>93552.000000</td>\n",
       "      <td>36.391777</td>\n",
       "      <td>-119.730885</td>\n",
       "      <td>29.000000</td>\n",
       "      <td>70.350000</td>\n",
       "      <td>0.000000</td>\n",
       "    </tr>\n",
       "    <tr>\n",
       "      <th>75%</th>\n",
       "      <td>1.0</td>\n",
       "      <td>95351.000000</td>\n",
       "      <td>38.224869</td>\n",
       "      <td>-118.043237</td>\n",
       "      <td>55.000000</td>\n",
       "      <td>89.850000</td>\n",
       "      <td>1.000000</td>\n",
       "    </tr>\n",
       "    <tr>\n",
       "      <th>max</th>\n",
       "      <td>1.0</td>\n",
       "      <td>96161.000000</td>\n",
       "      <td>41.962127</td>\n",
       "      <td>-114.192901</td>\n",
       "      <td>72.000000</td>\n",
       "      <td>118.750000</td>\n",
       "      <td>1.000000</td>\n",
       "    </tr>\n",
       "  </tbody>\n",
       "</table>\n",
       "</div>"
      ],
      "text/plain": [
       "        Count      Zip Code     Latitude    Longitude  Tenure Months  \\\n",
       "count  7043.0   7043.000000  7043.000000  7043.000000    7043.000000   \n",
       "mean      1.0  93521.964646    36.282441  -119.798880      32.371149   \n",
       "std       0.0   1865.794555     2.455723     2.157889      24.559481   \n",
       "min       1.0  90001.000000    32.555828  -124.301372       0.000000   \n",
       "25%       1.0  92102.000000    34.030915  -121.815412       9.000000   \n",
       "50%       1.0  93552.000000    36.391777  -119.730885      29.000000   \n",
       "75%       1.0  95351.000000    38.224869  -118.043237      55.000000   \n",
       "max       1.0  96161.000000    41.962127  -114.192901      72.000000   \n",
       "\n",
       "       Monthly Charges  Churn Value  \n",
       "count      7043.000000  7043.000000  \n",
       "mean         64.761692     0.265370  \n",
       "std          30.090047     0.441561  \n",
       "min          18.250000     0.000000  \n",
       "25%          35.500000     0.000000  \n",
       "50%          70.350000     0.000000  \n",
       "75%          89.850000     1.000000  \n",
       "max         118.750000     1.000000  "
      ]
     },
     "execution_count": 6,
     "metadata": {},
     "output_type": "execute_result"
    }
   ],
   "source": [
    "df.describe()"
   ]
  },
  {
   "cell_type": "code",
   "execution_count": 7,
   "id": "9997b99d",
   "metadata": {},
   "outputs": [
    {
     "data": {
      "text/plain": [
       "5174"
      ]
     },
     "execution_count": 7,
     "metadata": {},
     "output_type": "execute_result"
    }
   ],
   "source": [
    "df['Churn Reason'].isnull().sum()"
   ]
  },
  {
   "cell_type": "code",
   "execution_count": 8,
   "id": "a73ae345",
   "metadata": {
    "scrolled": true
   },
   "outputs": [
    {
     "data": {
      "text/plain": [
       "Churn Value\n",
       "0    5174\n",
       "1    1869\n",
       "Name: count, dtype: int64"
      ]
     },
     "execution_count": 8,
     "metadata": {},
     "output_type": "execute_result"
    }
   ],
   "source": [
    "df['Churn Value'].value_counts()"
   ]
  },
  {
   "cell_type": "code",
   "execution_count": 9,
   "id": "0ba95f24",
   "metadata": {
    "scrolled": true
   },
   "outputs": [
    {
     "data": {
      "text/plain": [
       "Index(['CustomerID', 'Count', 'Country', 'State', 'City', 'Zip Code',\n",
       "       'Lat Long', 'Latitude', 'Longitude', 'Gender', 'Senior Citizen',\n",
       "       'Partner', 'Dependents', 'Tenure Months', 'Phone Service',\n",
       "       'Multiple Lines', 'Internet Service', 'Online Security',\n",
       "       'Online Backup', 'Device Protection', 'Tech Support', 'Streaming TV',\n",
       "       'Streaming Movies', 'Contract', 'Paperless Billing', 'Payment Method',\n",
       "       'Monthly Charges', 'Total Charges', 'Churn Label', 'Churn Value',\n",
       "       'Churn Reason'],\n",
       "      dtype='object')"
      ]
     },
     "execution_count": 9,
     "metadata": {},
     "output_type": "execute_result"
    }
   ],
   "source": [
    "df.columns"
   ]
  },
  {
   "cell_type": "code",
   "execution_count": 10,
   "id": "7dddeefa",
   "metadata": {
    "scrolled": true
   },
   "outputs": [
    {
     "name": "stdout",
     "output_type": "stream",
     "text": [
      "<class 'pandas.core.frame.DataFrame'>\n",
      "RangeIndex: 7043 entries, 0 to 7042\n",
      "Data columns (total 31 columns):\n",
      " #   Column             Non-Null Count  Dtype  \n",
      "---  ------             --------------  -----  \n",
      " 0   CustomerID         7043 non-null   object \n",
      " 1   Count              7043 non-null   int64  \n",
      " 2   Country            7043 non-null   object \n",
      " 3   State              7043 non-null   object \n",
      " 4   City               7043 non-null   object \n",
      " 5   Zip Code           7043 non-null   int64  \n",
      " 6   Lat Long           7043 non-null   object \n",
      " 7   Latitude           7043 non-null   float64\n",
      " 8   Longitude          7043 non-null   float64\n",
      " 9   Gender             7043 non-null   object \n",
      " 10  Senior Citizen     7043 non-null   object \n",
      " 11  Partner            7043 non-null   object \n",
      " 12  Dependents         7043 non-null   object \n",
      " 13  Tenure Months      7043 non-null   int64  \n",
      " 14  Phone Service      7043 non-null   object \n",
      " 15  Multiple Lines     7043 non-null   object \n",
      " 16  Internet Service   7043 non-null   object \n",
      " 17  Online Security    7043 non-null   object \n",
      " 18  Online Backup      7043 non-null   object \n",
      " 19  Device Protection  7043 non-null   object \n",
      " 20  Tech Support       7043 non-null   object \n",
      " 21  Streaming TV       7043 non-null   object \n",
      " 22  Streaming Movies   7043 non-null   object \n",
      " 23  Contract           7043 non-null   object \n",
      " 24  Paperless Billing  7043 non-null   object \n",
      " 25  Payment Method     7043 non-null   object \n",
      " 26  Monthly Charges    7043 non-null   float64\n",
      " 27  Total Charges      7043 non-null   object \n",
      " 28  Churn Label        7043 non-null   object \n",
      " 29  Churn Value        7043 non-null   int64  \n",
      " 30  Churn Reason       1869 non-null   object \n",
      "dtypes: float64(3), int64(4), object(24)\n",
      "memory usage: 1.7+ MB\n"
     ]
    }
   ],
   "source": [
    "df.info()"
   ]
  },
  {
   "cell_type": "code",
   "execution_count": 11,
   "id": "ab5f1295",
   "metadata": {
    "scrolled": true
   },
   "outputs": [
    {
     "data": {
      "text/plain": [
       "CustomerID           7043\n",
       "Count                   1\n",
       "Country                 1\n",
       "State                   1\n",
       "City                 1129\n",
       "Zip Code             1652\n",
       "Lat Long             1652\n",
       "Latitude             1652\n",
       "Longitude            1651\n",
       "Gender                  2\n",
       "Senior Citizen          2\n",
       "Partner                 2\n",
       "Dependents              2\n",
       "Tenure Months          73\n",
       "Phone Service           2\n",
       "Multiple Lines          3\n",
       "Internet Service        3\n",
       "Online Security         3\n",
       "Online Backup           3\n",
       "Device Protection       3\n",
       "Tech Support            3\n",
       "Streaming TV            3\n",
       "Streaming Movies        3\n",
       "Contract                3\n",
       "Paperless Billing       2\n",
       "Payment Method          4\n",
       "Monthly Charges      1585\n",
       "Total Charges        6531\n",
       "Churn Label             2\n",
       "Churn Value             2\n",
       "Churn Reason           20\n",
       "dtype: int64"
      ]
     },
     "execution_count": 11,
     "metadata": {},
     "output_type": "execute_result"
    }
   ],
   "source": [
    "df.nunique()"
   ]
  },
  {
   "cell_type": "code",
   "execution_count": null,
   "id": "4c0b1d0f",
   "metadata": {},
   "outputs": [],
   "source": [
    "city_list = list(df['City'].unique())\n",
    "city_list"
   ]
  },
  {
   "cell_type": "markdown",
   "id": "0c6c20ab",
   "metadata": {},
   "source": [
    "<h2>Observations</h2>\n",
    "\n",
    "Data is clean. Null values can be explained as they have not churned, so no reason was given. This can be addressed via OHE.\n",
    "\n",
    "There seems to be a relationship between ZIP code and geographical data (Lat Long, Latitude, Longitude). This has been confirmed upon further review via graphs and study of the dataset. Also, too many cities, with an inbalance on the distribution of data points (many cities only have 5 entries, will others have over 300 entries). No geographical data will be used for the model.\n",
    "\n",
    "Total Charges is equal to Tenure Months time Monthly Charges, so this can be discarded in FE. Monthly Charges are in a manageable scale, no need to process this column further.\n",
    "\n",
    "For services, need  to change datatype from object to integer. Specifically a boolean 0-1 type, as they either have it (Yes) or they don't (No); for cases 'No internet service' or 'No phone service', these can also be mapped to 0.\n",
    "\n",
    "**_NOTE_** - Could have OHE gender to be more inclusive, but ince data only includes 'male' or 'female', a simple boolean mapping will be applied."
   ]
  },
  {
   "cell_type": "markdown",
   "id": "81df9021",
   "metadata": {},
   "source": [
    "<h1>Feature Engineering</h1>"
   ]
  },
  {
   "cell_type": "code",
   "execution_count": 13,
   "id": "60e157e0",
   "metadata": {},
   "outputs": [],
   "source": [
    "# Function for binary mapping\n",
    "def columns_binary(x):\n",
    "    if x == 'Yes':\n",
    "        return 1\n",
    "    else:\n",
    "        return 0\n",
    "\n",
    "# Function for all steps used for Feature Engineering\n",
    "def feature_eng(df):\n",
    "    # Drop non-useful columns\n",
    "    df = df.drop(columns = ['CustomerID', 'Count', 'Country', 'State', 'City',\n",
    "       'Zip Code', 'Lat Long', 'Latitude', 'Longitude', 'Churn Label', 'Churn Reason', 'Total Charges'],axis = 1) # We already have Churn Value which is already a numerical \n",
    "    \n",
    "    # Change yes/no(including: No internet/Phone services) to binary\n",
    "    df['Senior Citizen'] = df['Senior Citizen'].apply(columns_binary)\n",
    "    df['Partner'] = df['Partner'].apply(columns_binary)\n",
    "    df['Dependents'] = df['Dependents'].apply(columns_binary)\n",
    "    df['Phone Service'] = df['Phone Service'].apply(columns_binary)\n",
    "    df['Multiple Lines'] = df['Multiple Lines'].apply(columns_binary)\n",
    "    df['Online Security'] = df['Online Security'].apply(columns_binary)\n",
    "    df['Device Protection'] = df['Device Protection'].apply(columns_binary)\n",
    "    df['Online Backup'] = df['Online Backup'].apply(columns_binary)\n",
    "    df['Tech Support'] = df['Tech Support'].apply(columns_binary)\n",
    "    df['Streaming TV'] = df['Streaming TV'].apply(columns_binary)\n",
    "    df['Streaming Movies'] = df['Streaming Movies'].apply(columns_binary)\n",
    "    df['Paperless Billing'] = df['Paperless Billing'].apply(columns_binary)\n",
    "\n",
    "    # Changing columns with only two results to numericals\n",
    "    df['Gender'] = df['Gender'].map({'Male':0, 'Female':1})\n",
    "    \n",
    "    # OHE columns\n",
    "    df = pd.get_dummies(df, columns = ['Internet Service'], drop_first = True, prefix = 'Internet Service', dtype=int)\n",
    "    df = pd.get_dummies(df, columns = ['Contract'], drop_first = True, prefix = 'Contract', dtype=int)\n",
    "    df = pd.get_dummies(df, columns = ['Payment Method'], drop_first = True, prefix = 'Payment Method', dtype=int) \n",
    "    \n",
    "    return df"
   ]
  },
  {
   "cell_type": "code",
   "execution_count": 14,
   "id": "0654269e",
   "metadata": {},
   "outputs": [],
   "source": [
    "df_fe = feature_eng(df)"
   ]
  },
  {
   "cell_type": "code",
   "execution_count": 15,
   "id": "5cac928d",
   "metadata": {
    "scrolled": true
   },
   "outputs": [
    {
     "name": "stdout",
     "output_type": "stream",
     "text": [
      "<class 'pandas.core.frame.DataFrame'>\n",
      "RangeIndex: 7043 entries, 0 to 7042\n",
      "Data columns (total 23 columns):\n",
      " #   Column                                  Non-Null Count  Dtype  \n",
      "---  ------                                  --------------  -----  \n",
      " 0   Gender                                  7043 non-null   int64  \n",
      " 1   Senior Citizen                          7043 non-null   int64  \n",
      " 2   Partner                                 7043 non-null   int64  \n",
      " 3   Dependents                              7043 non-null   int64  \n",
      " 4   Tenure Months                           7043 non-null   int64  \n",
      " 5   Phone Service                           7043 non-null   int64  \n",
      " 6   Multiple Lines                          7043 non-null   int64  \n",
      " 7   Online Security                         7043 non-null   int64  \n",
      " 8   Online Backup                           7043 non-null   int64  \n",
      " 9   Device Protection                       7043 non-null   int64  \n",
      " 10  Tech Support                            7043 non-null   int64  \n",
      " 11  Streaming TV                            7043 non-null   int64  \n",
      " 12  Streaming Movies                        7043 non-null   int64  \n",
      " 13  Paperless Billing                       7043 non-null   int64  \n",
      " 14  Monthly Charges                         7043 non-null   float64\n",
      " 15  Churn Value                             7043 non-null   int64  \n",
      " 16  Internet Service_Fiber optic            7043 non-null   int32  \n",
      " 17  Internet Service_No                     7043 non-null   int32  \n",
      " 18  Contract_One year                       7043 non-null   int32  \n",
      " 19  Contract_Two year                       7043 non-null   int32  \n",
      " 20  Payment Method_Credit card (automatic)  7043 non-null   int32  \n",
      " 21  Payment Method_Electronic check         7043 non-null   int32  \n",
      " 22  Payment Method_Mailed check             7043 non-null   int32  \n",
      "dtypes: float64(1), int32(7), int64(15)\n",
      "memory usage: 1.0 MB\n"
     ]
    }
   ],
   "source": [
    "df_fe.info()"
   ]
  },
  {
   "cell_type": "code",
   "execution_count": 16,
   "id": "a5b43a79",
   "metadata": {
    "scrolled": true
   },
   "outputs": [
    {
     "data": {
      "text/plain": [
       "Churn Value\n",
       "0    5174\n",
       "1    1869\n",
       "Name: count, dtype: int64"
      ]
     },
     "execution_count": 16,
     "metadata": {},
     "output_type": "execute_result"
    }
   ],
   "source": [
    "df_fe['Churn Value'].value_counts()"
   ]
  },
  {
   "cell_type": "markdown",
   "id": "dd195aaa",
   "metadata": {},
   "source": [
    "<h1>Balancing the sample</h1>"
   ]
  },
  {
   "cell_type": "markdown",
   "id": "29e2be77",
   "metadata": {},
   "source": [
    "An important aspect for modeling is that we have a balanced data set to work with. Since this data set is leaning towards non-chruners, an oversampling precedure will be applied."
   ]
  },
  {
   "cell_type": "code",
   "execution_count": 17,
   "id": "6614d73a",
   "metadata": {},
   "outputs": [],
   "source": [
    "def oversample(X,y):\n",
    "    ''' X = a dataframe containing only the features of the data\n",
    "        Y = a dataframe containing only the target\n",
    "    '''\n",
    "    ros = RandomOverSampler(sampling_strategy='not majority') #define random oversample model\n",
    "    X_res, y_res = ros.fit_resample(X,y) #fit the random oversample to the data\n",
    "    return X_res, y_res #return resampled feature and target dataframes"
   ]
  },
  {
   "cell_type": "code",
   "execution_count": 18,
   "id": "564421c4",
   "metadata": {},
   "outputs": [],
   "source": [
    "df_feature = df_fe.copy()\n",
    "df_feature = df_feature.drop(columns = 'Churn Value')\n",
    "df_target = df_fe['Churn Value']"
   ]
  },
  {
   "cell_type": "code",
   "execution_count": 19,
   "id": "9c013f5f",
   "metadata": {},
   "outputs": [],
   "source": [
    "X_res, y_res = oversample(df_feature,df_target)"
   ]
  },
  {
   "cell_type": "code",
   "execution_count": 20,
   "id": "4f2d89ab",
   "metadata": {},
   "outputs": [
    {
     "data": {
      "text/plain": [
       "Churn Value\n",
       "1    5174\n",
       "0    5174\n",
       "Name: count, dtype: int64"
      ]
     },
     "execution_count": 20,
     "metadata": {},
     "output_type": "execute_result"
    }
   ],
   "source": [
    "y_res.value_counts()"
   ]
  },
  {
   "cell_type": "code",
   "execution_count": 21,
   "id": "ad4155ca",
   "metadata": {},
   "outputs": [
    {
     "data": {
      "text/plain": [
       "(10348, 22)"
      ]
     },
     "execution_count": 21,
     "metadata": {},
     "output_type": "execute_result"
    }
   ],
   "source": [
    "X_res.shape"
   ]
  },
  {
   "cell_type": "code",
   "execution_count": 22,
   "id": "038b22d6",
   "metadata": {},
   "outputs": [
    {
     "data": {
      "text/plain": [
       "Gender                                      int64\n",
       "Senior Citizen                              int64\n",
       "Partner                                     int64\n",
       "Dependents                                  int64\n",
       "Tenure Months                               int64\n",
       "Phone Service                               int64\n",
       "Multiple Lines                              int64\n",
       "Online Security                             int64\n",
       "Online Backup                               int64\n",
       "Device Protection                           int64\n",
       "Tech Support                                int64\n",
       "Streaming TV                                int64\n",
       "Streaming Movies                            int64\n",
       "Paperless Billing                           int64\n",
       "Monthly Charges                           float64\n",
       "Internet Service_Fiber optic                int32\n",
       "Internet Service_No                         int32\n",
       "Contract_One year                           int32\n",
       "Contract_Two year                           int32\n",
       "Payment Method_Credit card (automatic)      int32\n",
       "Payment Method_Electronic check             int32\n",
       "Payment Method_Mailed check                 int32\n",
       "dtype: object"
      ]
     },
     "execution_count": 22,
     "metadata": {},
     "output_type": "execute_result"
    }
   ],
   "source": [
    "X_res.dtypes"
   ]
  },
  {
   "cell_type": "markdown",
   "id": "4b8cb026",
   "metadata": {},
   "source": [
    "<h1>Selecting feature columns for the model</h1>"
   ]
  },
  {
   "cell_type": "markdown",
   "id": "d608e77c",
   "metadata": {},
   "source": [
    "For this section, exploration of the most relevant columns to be used in the final model. StepWise exploration and getting the Importance metrics from a Decision Tree will be the tools used to define this list."
   ]
  },
  {
   "cell_type": "markdown",
   "id": "2881074b",
   "metadata": {},
   "source": [
    "<h2>StepWise process</h2>"
   ]
  },
  {
   "cell_type": "code",
   "execution_count": 23,
   "id": "214768ca",
   "metadata": {},
   "outputs": [],
   "source": [
    "def stepwise_selection(X, y, threshold_in = 0.01, threshold_out = 0.05, verbose = False):\n",
    "    # The function is checking for p-values (whether features are statistically significant) - lower is better\n",
    "    included = [] # this is going to be the list of features we keep\n",
    "    while True:\n",
    "        changed = False\n",
    "        # forward step\n",
    "        excluded = list(set(X.columns) - set(included))\n",
    "        new_pval = pd.Series(index = excluded, dtype = 'float64')\n",
    "        for new_column in excluded:\n",
    "            model = sm.OLS(y, sm.add_constant(pd.DataFrame(X[included + [new_column]]))).fit()\n",
    "            new_pval[new_column] = model.pvalues[new_column]\n",
    "        best_pval = new_pval.min()\n",
    "        # we add the feature with the lowest (best) p-value under the threshold to our 'included' list\n",
    "        if best_pval < threshold_in:\n",
    "            best_feature = new_pval.idxmin()\n",
    "            included.append(best_feature)\n",
    "            changed = True\n",
    "            if verbose:\n",
    "                print('Add  {:30} with p-value {:.6}'.format(best_feature, best_pval)) # specifying the verbose text\n",
    "\n",
    "\n",
    "        # backward step: removing features if new features added to the list make them statistically insignificant\n",
    "        model = sm.OLS(y, sm.add_constant(pd.DataFrame(X[included]))).fit()\n",
    "        \n",
    "        # use all coefs except intercept\n",
    "        pvalues = model.pvalues.iloc[1:]\n",
    "        worst_pval = pvalues.max() # null if pvalues is empty\n",
    "        # if the p-value exceeds the upper threshold, the feature will be dropped from the 'included' list\n",
    "        if worst_pval > threshold_out:\n",
    "            changed = True\n",
    "            worst_feature = pvalues.idxmax()\n",
    "            included.remove(worst_feature)\n",
    "            if verbose:\n",
    "                print('Drop {:30} with p-value {:.6}'.format(worst_feature, worst_pval))\n",
    "        if not changed:\n",
    "            break\n",
    "    return included"
   ]
  },
  {
   "cell_type": "code",
   "execution_count": 24,
   "id": "8bd76355",
   "metadata": {},
   "outputs": [
    {
     "data": {
      "text/plain": [
       "['Tenure Months',\n",
       " 'Internet Service_Fiber optic',\n",
       " 'Dependents',\n",
       " 'Payment Method_Electronic check',\n",
       " 'Internet Service_No',\n",
       " 'Online Security',\n",
       " 'Contract_One year',\n",
       " 'Contract_Two year',\n",
       " 'Paperless Billing',\n",
       " 'Tech Support',\n",
       " 'Streaming Movies',\n",
       " 'Partner',\n",
       " 'Phone Service',\n",
       " 'Multiple Lines',\n",
       " 'Streaming TV']"
      ]
     },
     "execution_count": 24,
     "metadata": {},
     "output_type": "execute_result"
    }
   ],
   "source": [
    "stepwise_selection(X_res, y_res)"
   ]
  },
  {
   "cell_type": "code",
   "execution_count": 25,
   "id": "5ba39989",
   "metadata": {},
   "outputs": [],
   "source": [
    "feat_cols_sw = stepwise_selection(X_res, y_res)"
   ]
  },
  {
   "cell_type": "markdown",
   "id": "4dee085e",
   "metadata": {},
   "source": [
    "<h2>Decision Tree process</h2>"
   ]
  },
  {
   "cell_type": "code",
   "execution_count": 26,
   "id": "9b47ddbb",
   "metadata": {},
   "outputs": [],
   "source": [
    "X_train_dt, X_test_dt, y_train_dt, y_test_dt = train_test_split(X_res, # features from FE dataset\n",
    "                                                                y_res, # target from FE dataset\n",
    "                                                                test_size = 0.2, # The % allocated to test\n",
    "                                                                random_state = 56) # Random state - python will retain the shuffle of dataset"
   ]
  },
  {
   "cell_type": "code",
   "execution_count": 27,
   "id": "21886c32",
   "metadata": {},
   "outputs": [
    {
     "name": "stdout",
     "output_type": "stream",
     "text": [
      "Fitting 5 folds for each of 1 candidates, totalling 5 fits\n"
     ]
    }
   ],
   "source": [
    "rf = RandomForestClassifier(n_estimators=50) # Random Forests\n",
    "\n",
    "## Check respective cross validation scores if overfitting need to tune as shown below\n",
    "\n",
    "rf_score = cross_val_score(rf, X_train_dt, y_train_dt, cv=5)\n",
    "\n",
    "#Step 1: Select parameters\n",
    "rf_params = {\n",
    "    'bootstrap': [False], \n",
    "    'n_estimators': [350], # 1 option\n",
    "    'max_depth': [9], # 1 option\n",
    "    'min_samples_split': [6], # 1 option\n",
    "    'min_samples_leaf': [5] # 1 option\n",
    "}\n",
    "\n",
    "# Create a grid search object\n",
    "gs = GridSearchCV(rf,\n",
    "                  param_grid=rf_params,\n",
    "                  cv=5,\n",
    "                  verbose = 1,) # k = 5\n",
    "\n",
    "# Fit grid search on the training set\n",
    "gs.fit(X_train_dt, y_train_dt)\n",
    "\n",
    "# Save my best model as a random forest model\n",
    "best_rf = gs.best_estimator_"
   ]
  },
  {
   "cell_type": "code",
   "execution_count": 28,
   "id": "0d54931b",
   "metadata": {
    "scrolled": true
   },
   "outputs": [
    {
     "name": "stdout",
     "output_type": "stream",
     "text": [
      "0.8123947341535678\n",
      "[('Gender', 0.006871315198342591), ('Senior Citizen', 0.00847384302675889), ('Partner', 0.014015322271088797), ('Dependents', 0.0888939842923323), ('Tenure Months', 0.23221753464520048), ('Phone Service', 0.006874611167799163), ('Multiple Lines', 0.008276757422462647), ('Online Security', 0.029703932739022106), ('Online Backup', 0.00927053634889735), ('Device Protection', 0.006525567111781151), ('Tech Support', 0.021192094121078003), ('Streaming TV', 0.007587368058381814), ('Streaming Movies', 0.008806679575106616), ('Paperless Billing', 0.024021647631635817), ('Monthly Charges', 0.0996601400527662), ('Internet Service_Fiber optic', 0.106384199583178), ('Internet Service_No', 0.04467003424675349), ('Contract_One year', 0.062004062890241914), ('Contract_Two year', 0.12974377923528546), ('Payment Method_Credit card (automatic)', 0.006871697438040816), ('Payment Method_Electronic check', 0.07174254811148832), ('Payment Method_Mailed check', 0.006192344832358063)]\n"
     ]
    }
   ],
   "source": [
    "# Get best accuracy score\n",
    "print(gs.best_score_)\n",
    "\n",
    "# Fetches best parameters\n",
    "gs.best_params_\n",
    "\n",
    "## How well the model does\n",
    "gs.score(X_train_dt, y_train_dt)\n",
    "\n",
    "# Explainability of Random Forest/Decision Trees - importance features\n",
    "print(list(zip(X_train_dt.columns, best_rf.feature_importances_)))"
   ]
  },
  {
   "cell_type": "markdown",
   "id": "83a9aa31",
   "metadata": {},
   "source": [
    "### Modelling Features:\n",
    "- Stepwise and Decision Tree importance align.\n",
    "- A percentage of how important this factors are is provided by theDecision Tree calculations.\n",
    "- Final Features list for the model:\n",
    "    - Tenure Months\n",
    "    - Internet Service_Fiber optic\n",
    "    - Dependents\n",
    "    - Payment Method_Electronic check\n",
    "    - Internet Service_No\n",
    "    - Tech Support\n",
    "    - Online Security\n",
    "    - Contract_One year\n",
    "    - Contract_Two year\n",
    "    - Paperless Billing\n",
    "    - Streaming TV\n",
    "    - Partner\n",
    "    - Multiple Lines\n",
    "    - Streaming Movies\n",
    "    - Monthly Charges"
   ]
  },
  {
   "cell_type": "markdown",
   "id": "7606719e",
   "metadata": {},
   "source": [
    "<h1>Model development</h1>"
   ]
  },
  {
   "cell_type": "markdown",
   "id": "f2683a59",
   "metadata": {},
   "source": [
    "Model use will be a Logistic Regression model. This model provides probability calculations, for which we can then set a threshold to determine which users and in risk of churning.\n",
    "\n",
    "For this model, Recall needs to be maximised and Precision minimised. We want to ensure that the predictions from the model are accurately capturing those users that have already churned (maximised Recall), but model has to capture \"false positives\", as these are users that the model preditcs that are in risk of churning (greater amount of FP will reduce Precision)."
   ]
  },
  {
   "cell_type": "code",
   "execution_count": 50,
   "id": "e6f4daa1",
   "metadata": {},
   "outputs": [],
   "source": [
    "# Changing name convention for clarity\n",
    "# Same train/test split\n",
    "# Data set oversampled and FE\n",
    "X_train, X_test, y_train, y_test = train_test_split(X_res[feat_cols_sw], # features from FE dataset\n",
    "                                                    y_res, # target from FE dataset\n",
    "                                                    test_size = 0.2, # The % allocated to test\n",
    "                                                    random_state = 56) # Random state - python will retain the shuffle of dataset"
   ]
  },
  {
   "cell_type": "code",
   "execution_count": 51,
   "id": "af9e3f10",
   "metadata": {},
   "outputs": [],
   "source": [
    "# Function for modeling\n",
    "    # Several tests were performed to optimise the model\n",
    "    # Versions tested have been kept for record purposes\n",
    "def logreg(dt_feat, df_target):\n",
    "    '''\n",
    "    Function to generate and fit a Regression model\n",
    "    \n",
    "    Argument:\n",
    "        - df_feat: features from the dataset (after cleaning and FE)\n",
    "        - df_target: target from the dataset (after cleaning and FE)\n",
    "        \n",
    "    Inputs: train/test splitted dataset\n",
    "    \n",
    "    Output: fitted Regression model\n",
    "    '''\n",
    "    #Generate the logistic regression model\n",
    "    lr = LogisticRegression(max_iter=1000, \n",
    "                          random_state=10)\n",
    "    # lr2 = LogisticRegression(max_iter=1000, \n",
    "    #                       random_state=10,solver='liblinear')\n",
    "    # lr3 = LogisticRegression(max_iter=1000, \n",
    "    #                       random_state=10,solver='newton-cholesky')\n",
    "    # lr3 = LogisticRegression(max_iter=1000, \n",
    "    #                       random_state=10, multi_class='ovr')\n",
    "   \n",
    "    lr.fit(dt_feat, df_target) #fit the model to the training data\n",
    "    \n",
    "    return lr"
   ]
  },
  {
   "cell_type": "code",
   "execution_count": 52,
   "id": "f6dabce4",
   "metadata": {},
   "outputs": [],
   "source": [
    "def logreg_prob(model, df_feat, threshold):\n",
    "    '''\n",
    "    Function to calculate probabilties and add probability of churning, \n",
    "    probability of not churning and the prediction, based on the threshold.\n",
    "    \n",
    "    Argument:\n",
    "        - model: regression model generated on previous step\n",
    "        - df_feat: features from the dataset (after cleaning and FE)\n",
    "        - threshold: probability needed on 'prob_churn' for prediction to be 1\n",
    "        \n",
    "    Inputs: model, train section of a splitted dataset and threshold value\n",
    "    \n",
    "    Output: train section of a splitted dataset with 3 new columns ['prob_not_churn', 'prob_churn', 'prediction']\n",
    "    '''\n",
    "    df_feat[['prob_not_churn', 'prob_churn']] = model.predict_proba(df_feat) \n",
    "    df_feat['prediction'] = np.where(df_feat['prob_churn'] > threshold, 1, 0)\n",
    "    \n",
    "    return df_feat\n",
    "    "
   ]
  },
  {
   "cell_type": "markdown",
   "id": "8adc4f98",
   "metadata": {},
   "source": [
    "<h2>Determining Threshold</h2>\n",
    "\n",
    "To streamline the process on determining the best threshold for the model, the team developed a function to iterate through a range of threshold values.\n",
    "\n",
    "Once a dataset with threshold and metrics is created, a plot will be created to illustrate how metrics behave and determine best threshold for the model."
   ]
  },
  {
   "cell_type": "code",
   "execution_count": 53,
   "id": "b05cef6a",
   "metadata": {},
   "outputs": [],
   "source": [
    "# Function to automatically generate data frames with probabilities and predictions\n",
    "\n",
    "def logreg_auto(X_train, X_test, y_train, y_test, prob_thresh):\n",
    "    lr = LogisticRegression(max_iter=1000, \n",
    "                          random_state=10)\n",
    "    lr.fit(X_train, y_train) \n",
    "    lr.predict_proba(X_train) \n",
    "    X_train[['prob_not_churn', 'prob_churn']] = lr.predict_proba(X_train) \n",
    "    X_test[['prob_not_churn', 'prob_churn']] = lr.predict_proba(X_test)\n",
    "    X_train['y_pred'] = np.where(X_train['prob_churn'] > prob_thresh, 1, 0) \n",
    "    X_test['y_pred'] = np.where(X_test['prob_churn'] > prob_thresh, 1, 0)"
   ]
  },
  {
   "cell_type": "code",
   "execution_count": 54,
   "id": "ad2eb5fc",
   "metadata": {},
   "outputs": [],
   "source": [
    "# Function to calculate all metrics for the model\n",
    "\n",
    "def get_results(actual, predicted):\n",
    "    return (metrics.confusion_matrix(actual, predicted), \n",
    "            metrics.accuracy_score(actual, predicted), \n",
    "            metrics.recall_score(actual, predicted), \n",
    "            metrics.precision_score(actual, predicted),\n",
    "            metrics.f1_score(actual, predicted))"
   ]
  },
  {
   "cell_type": "code",
   "execution_count": 55,
   "id": "acd05db6",
   "metadata": {},
   "outputs": [],
   "source": [
    "# Function to iterate through different models at different threshold ranges\n",
    "    # It only stores results if recall is greater or equal to 0.85\n",
    "\n",
    "def model_tester(X_train, X_test, y_train, y_test, threshold_base, threshold_size):\n",
    "    thresholds = []\n",
    "    results = []\n",
    "    threshold = threshold_base\n",
    "    \n",
    "    for i in range(threshold_size):\n",
    "        logreg_auto(X_train, X_test, y_train, y_test,threshold)\n",
    "        recall = metrics.recall_score(y_test, X_test['y_pred'])\n",
    "        if recall >= 0.85:\n",
    "            thresholds.append(threshold)\n",
    "            results.append(get_results(y_test, X_test['y_pred']))\n",
    "        threshold += 0.01\n",
    "    \n",
    "    return thresholds,results"
   ]
  },
  {
   "cell_type": "code",
   "execution_count": 56,
   "id": "df242a6f",
   "metadata": {},
   "outputs": [],
   "source": [
    "thresholds, results = model_tester(X_train, X_test, y_train, y_test, 0.2, 100)"
   ]
  },
  {
   "cell_type": "code",
   "execution_count": 57,
   "id": "6b7ff7ad",
   "metadata": {},
   "outputs": [],
   "source": [
    "accuracy = []\n",
    "recall = []\n",
    "precision = []"
   ]
  },
  {
   "cell_type": "code",
   "execution_count": 58,
   "id": "3a9aef33",
   "metadata": {},
   "outputs": [],
   "source": [
    "for item in results:\n",
    "    accuracy.append(item[1])\n",
    "    recall.append(item[2])\n",
    "    precision.append(item[3])"
   ]
  },
  {
   "cell_type": "code",
   "execution_count": 59,
   "id": "298604e4",
   "metadata": {},
   "outputs": [],
   "source": [
    "metrics_comp = pd.DataFrame(data={'Threshold':thresholds,\n",
    "                                  'Accuracy':accuracy,\n",
    "                                  'Recall':recall,\n",
    "                                  'Precision':precision\n",
    "                                 })"
   ]
  },
  {
   "cell_type": "code",
   "execution_count": 60,
   "id": "96072c3c",
   "metadata": {},
   "outputs": [],
   "source": [
    "threshold = metrics_comp['Threshold']\n",
    "accuracy = metrics_comp['Accuracy']\n",
    "recall = metrics_comp['Recall']\n",
    "precision = metrics_comp['Precision']"
   ]
  },
  {
   "cell_type": "code",
   "execution_count": 61,
   "id": "5b6aa6ad",
   "metadata": {
    "scrolled": true
   },
   "outputs": [
    {
     "data": {
      "image/png": "[encoded data removed]",
      "text/plain": [
       "<Figure size 640x480 with 1 Axes>"
      ]
     },
     "metadata": {},
     "output_type": "display_data"
    }
   ],
   "source": [
    "plt.plot(threshold, accuracy, label='Accuracy')\n",
    "plt.plot(threshold, recall, label='Recall')\n",
    "plt.plot(threshold, precision, label='Precision')\n",
    "# plt.vlines(x = 0.3, ymin = .65, ymax = .95, color = 'green', linewidth = 3)\n",
    "plt.legend()\n",
    "plt.show()"
   ]
  },
  {
   "cell_type": "code",
   "execution_count": 62,
   "id": "05f3811b",
   "metadata": {
    "scrolled": true
   },
   "outputs": [
    {
     "data": {
      "text/html": [
       "<div>\n",
       "<style scoped>\n",
       "    .dataframe tbody tr th:only-of-type {\n",
       "        vertical-align: middle;\n",
       "    }\n",
       "\n",
       "    .dataframe tbody tr th {\n",
       "        vertical-align: top;\n",
       "    }\n",
       "\n",
       "    .dataframe thead th {\n",
       "        text-align: right;\n",
       "    }\n",
       "</style>\n",
       "<table border=\"1\" class=\"dataframe\">\n",
       "  <thead>\n",
       "    <tr style=\"text-align: right;\">\n",
       "      <th></th>\n",
       "      <th>Threshold</th>\n",
       "      <th>Accuracy</th>\n",
       "      <th>Recall</th>\n",
       "      <th>Precision</th>\n",
       "    </tr>\n",
       "  </thead>\n",
       "  <tbody>\n",
       "    <tr>\n",
       "      <th>12</th>\n",
       "      <td>0.32</td>\n",
       "      <td>0.758937</td>\n",
       "      <td>0.909179</td>\n",
       "      <td>0.699108</td>\n",
       "    </tr>\n",
       "    <tr>\n",
       "      <th>10</th>\n",
       "      <td>0.30</td>\n",
       "      <td>0.756522</td>\n",
       "      <td>0.915942</td>\n",
       "      <td>0.694505</td>\n",
       "    </tr>\n",
       "    <tr>\n",
       "      <th>13</th>\n",
       "      <td>0.33</td>\n",
       "      <td>0.753140</td>\n",
       "      <td>0.905314</td>\n",
       "      <td>0.694074</td>\n",
       "    </tr>\n",
       "    <tr>\n",
       "      <th>11</th>\n",
       "      <td>0.31</td>\n",
       "      <td>0.748792</td>\n",
       "      <td>0.912077</td>\n",
       "      <td>0.687546</td>\n",
       "    </tr>\n",
       "    <tr>\n",
       "      <th>8</th>\n",
       "      <td>0.28</td>\n",
       "      <td>0.746377</td>\n",
       "      <td>0.921739</td>\n",
       "      <td>0.682403</td>\n",
       "    </tr>\n",
       "  </tbody>\n",
       "</table>\n",
       "</div>"
      ],
      "text/plain": [
       "    Threshold  Accuracy    Recall  Precision\n",
       "12       0.32  0.758937  0.909179   0.699108\n",
       "10       0.30  0.756522  0.915942   0.694505\n",
       "13       0.33  0.753140  0.905314   0.694074\n",
       "11       0.31  0.748792  0.912077   0.687546\n",
       "8        0.28  0.746377  0.921739   0.682403"
      ]
     },
     "execution_count": 62,
     "metadata": {},
     "output_type": "execute_result"
    }
   ],
   "source": [
    "metrics_comp[metrics_comp['Precision'] <= .7].sort_values(by='Precision',ascending=False).head()"
   ]
  },
  {
   "cell_type": "markdown",
   "id": "87c2bfc8",
   "metadata": {},
   "source": [
    "<h2>Threshold Selection</h2>"
   ]
  },
  {
   "cell_type": "markdown",
   "id": "0f7957b8",
   "metadata": {},
   "source": [
    "After running through 'model_tester', the team decided that best threshold for the model is 0.32.\n",
    "\n",
    "As previously stated, Recall needs to be maximised and Precision needs to be as low as possible; another factor to consider is the level of urgency.\n",
    "\n",
    "With a threshold too low, model may seem too \"alarmist\" and create a list that is too big, while also potentially deterring users to stay in the network if they feel inundated with promotions.\n",
    "\n",
    "Taking everything into account, team decided to ensure Precision is below 70%, which still results in an Recall of 90.9%, and the end result is that a user will be flagged as a risk for churning if the probability of churning is above 32%."
   ]
  },
  {
   "cell_type": "markdown",
   "id": "faead788",
   "metadata": {},
   "source": [
    "<h2>Final model and predictions</h2>"
   ]
  },
  {
   "cell_type": "code",
   "execution_count": 63,
   "id": "03ad8b0f",
   "metadata": {},
   "outputs": [],
   "source": [
    "feat_train, feat_test, target_train, target_test = train_test_split(X_res[feat_cols_sw], # features from FE dataset\n",
    "                                                                    y_res, # target from FE dataset\n",
    "                                                                    test_size = 0.2, # The % allocated to test\n",
    "                                                                    random_state = 56) # Random state - python will retain the shuffle of dataset"
   ]
  },
  {
   "cell_type": "code",
   "execution_count": 64,
   "id": "f2c97d08",
   "metadata": {},
   "outputs": [],
   "source": [
    "churn_predictor = logreg(feat_train, target_train)"
   ]
  },
  {
   "cell_type": "code",
   "execution_count": 67,
   "id": "86a39eec",
   "metadata": {},
   "outputs": [
    {
     "name": "stderr",
     "output_type": "stream",
     "text": [
      "C:\\Users\\danih\\AppData\\Local\\Temp\\ipykernel_48616\\2392312145.py:15: SettingWithCopyWarning: \n",
      "A value is trying to be set on a copy of a slice from a DataFrame.\n",
      "Try using .loc[row_indexer,col_indexer] = value instead\n",
      "\n",
      "See the caveats in the documentation: https://pandas.pydata.org/pandas-docs/stable/user_guide/indexing.html#returning-a-view-versus-a-copy\n",
      "  df_feat[['prob_not_churn', 'prob_churn']] = model.predict_proba(df_feat)\n",
      "C:\\Users\\danih\\AppData\\Local\\Temp\\ipykernel_48616\\2392312145.py:15: SettingWithCopyWarning: \n",
      "A value is trying to be set on a copy of a slice from a DataFrame.\n",
      "Try using .loc[row_indexer,col_indexer] = value instead\n",
      "\n",
      "See the caveats in the documentation: https://pandas.pydata.org/pandas-docs/stable/user_guide/indexing.html#returning-a-view-versus-a-copy\n",
      "  df_feat[['prob_not_churn', 'prob_churn']] = model.predict_proba(df_feat)\n",
      "C:\\Users\\danih\\AppData\\Local\\Temp\\ipykernel_48616\\2392312145.py:16: SettingWithCopyWarning: \n",
      "A value is trying to be set on a copy of a slice from a DataFrame.\n",
      "Try using .loc[row_indexer,col_indexer] = value instead\n",
      "\n",
      "See the caveats in the documentation: https://pandas.pydata.org/pandas-docs/stable/user_guide/indexing.html#returning-a-view-versus-a-copy\n",
      "  df_feat['prediction'] = np.where(df_feat['prob_churn'] > threshold, 1, 0)\n"
     ]
    }
   ],
   "source": [
    "predictions = logreg_prob(churn_predictor, df_fe[feat_cols_sw], 0.32)"
   ]
  },
  {
   "cell_type": "code",
   "execution_count": 69,
   "id": "ff9ef2c9",
   "metadata": {},
   "outputs": [
    {
     "data": {
      "text/html": [
       "<div>\n",
       "<style scoped>\n",
       "    .dataframe tbody tr th:only-of-type {\n",
       "        vertical-align: middle;\n",
       "    }\n",
       "\n",
       "    .dataframe tbody tr th {\n",
       "        vertical-align: top;\n",
       "    }\n",
       "\n",
       "    .dataframe thead th {\n",
       "        text-align: right;\n",
       "    }\n",
       "</style>\n",
       "<table border=\"1\" class=\"dataframe\">\n",
       "  <thead>\n",
       "    <tr style=\"text-align: right;\">\n",
       "      <th></th>\n",
       "      <th>Tenure Months</th>\n",
       "      <th>Internet Service_Fiber optic</th>\n",
       "      <th>Dependents</th>\n",
       "      <th>Payment Method_Electronic check</th>\n",
       "      <th>Internet Service_No</th>\n",
       "      <th>Online Security</th>\n",
       "      <th>Contract_One year</th>\n",
       "      <th>Contract_Two year</th>\n",
       "      <th>Paperless Billing</th>\n",
       "      <th>Tech Support</th>\n",
       "      <th>Streaming Movies</th>\n",
       "      <th>Partner</th>\n",
       "      <th>Phone Service</th>\n",
       "      <th>Multiple Lines</th>\n",
       "      <th>Streaming TV</th>\n",
       "      <th>prob_not_churn</th>\n",
       "      <th>prob_churn</th>\n",
       "      <th>prediction</th>\n",
       "    </tr>\n",
       "  </thead>\n",
       "  <tbody>\n",
       "    <tr>\n",
       "      <th>0</th>\n",
       "      <td>2</td>\n",
       "      <td>0</td>\n",
       "      <td>0</td>\n",
       "      <td>0</td>\n",
       "      <td>0</td>\n",
       "      <td>1</td>\n",
       "      <td>0</td>\n",
       "      <td>0</td>\n",
       "      <td>1</td>\n",
       "      <td>0</td>\n",
       "      <td>0</td>\n",
       "      <td>0</td>\n",
       "      <td>1</td>\n",
       "      <td>0</td>\n",
       "      <td>0</td>\n",
       "      <td>0.420216</td>\n",
       "      <td>0.579784</td>\n",
       "      <td>1</td>\n",
       "    </tr>\n",
       "    <tr>\n",
       "      <th>1</th>\n",
       "      <td>2</td>\n",
       "      <td>1</td>\n",
       "      <td>1</td>\n",
       "      <td>1</td>\n",
       "      <td>0</td>\n",
       "      <td>0</td>\n",
       "      <td>0</td>\n",
       "      <td>0</td>\n",
       "      <td>1</td>\n",
       "      <td>0</td>\n",
       "      <td>0</td>\n",
       "      <td>0</td>\n",
       "      <td>1</td>\n",
       "      <td>0</td>\n",
       "      <td>0</td>\n",
       "      <td>0.433734</td>\n",
       "      <td>0.566266</td>\n",
       "      <td>1</td>\n",
       "    </tr>\n",
       "    <tr>\n",
       "      <th>2</th>\n",
       "      <td>8</td>\n",
       "      <td>1</td>\n",
       "      <td>1</td>\n",
       "      <td>1</td>\n",
       "      <td>0</td>\n",
       "      <td>0</td>\n",
       "      <td>0</td>\n",
       "      <td>0</td>\n",
       "      <td>1</td>\n",
       "      <td>0</td>\n",
       "      <td>1</td>\n",
       "      <td>0</td>\n",
       "      <td>1</td>\n",
       "      <td>1</td>\n",
       "      <td>1</td>\n",
       "      <td>0.289808</td>\n",
       "      <td>0.710192</td>\n",
       "      <td>1</td>\n",
       "    </tr>\n",
       "    <tr>\n",
       "      <th>3</th>\n",
       "      <td>28</td>\n",
       "      <td>1</td>\n",
       "      <td>1</td>\n",
       "      <td>1</td>\n",
       "      <td>0</td>\n",
       "      <td>0</td>\n",
       "      <td>0</td>\n",
       "      <td>0</td>\n",
       "      <td>1</td>\n",
       "      <td>1</td>\n",
       "      <td>1</td>\n",
       "      <td>1</td>\n",
       "      <td>1</td>\n",
       "      <td>1</td>\n",
       "      <td>1</td>\n",
       "      <td>0.438350</td>\n",
       "      <td>0.561650</td>\n",
       "      <td>1</td>\n",
       "    </tr>\n",
       "    <tr>\n",
       "      <th>4</th>\n",
       "      <td>49</td>\n",
       "      <td>1</td>\n",
       "      <td>1</td>\n",
       "      <td>0</td>\n",
       "      <td>0</td>\n",
       "      <td>0</td>\n",
       "      <td>0</td>\n",
       "      <td>0</td>\n",
       "      <td>1</td>\n",
       "      <td>0</td>\n",
       "      <td>1</td>\n",
       "      <td>0</td>\n",
       "      <td>1</td>\n",
       "      <td>1</td>\n",
       "      <td>1</td>\n",
       "      <td>0.705204</td>\n",
       "      <td>0.294796</td>\n",
       "      <td>0</td>\n",
       "    </tr>\n",
       "  </tbody>\n",
       "</table>\n",
       "</div>"
      ],
      "text/plain": [
       "   Tenure Months  Internet Service_Fiber optic  Dependents  \\\n",
       "0              2                             0           0   \n",
       "1              2                             1           1   \n",
       "2              8                             1           1   \n",
       "3             28                             1           1   \n",
       "4             49                             1           1   \n",
       "\n",
       "   Payment Method_Electronic check  Internet Service_No  Online Security  \\\n",
       "0                                0                    0                1   \n",
       "1                                1                    0                0   \n",
       "2                                1                    0                0   \n",
       "3                                1                    0                0   \n",
       "4                                0                    0                0   \n",
       "\n",
       "   Contract_One year  Contract_Two year  Paperless Billing  Tech Support  \\\n",
       "0                  0                  0                  1             0   \n",
       "1                  0                  0                  1             0   \n",
       "2                  0                  0                  1             0   \n",
       "3                  0                  0                  1             1   \n",
       "4                  0                  0                  1             0   \n",
       "\n",
       "   Streaming Movies  Partner  Phone Service  Multiple Lines  Streaming TV  \\\n",
       "0                 0        0              1               0             0   \n",
       "1                 0        0              1               0             0   \n",
       "2                 1        0              1               1             1   \n",
       "3                 1        1              1               1             1   \n",
       "4                 1        0              1               1             1   \n",
       "\n",
       "   prob_not_churn  prob_churn  prediction  \n",
       "0        0.420216    0.579784           1  \n",
       "1        0.433734    0.566266           1  \n",
       "2        0.289808    0.710192           1  \n",
       "3        0.438350    0.561650           1  \n",
       "4        0.705204    0.294796           0  "
      ]
     },
     "execution_count": 69,
     "metadata": {},
     "output_type": "execute_result"
    }
   ],
   "source": [
    "predictions.head()"
   ]
  },
  {
   "cell_type": "code",
   "execution_count": 70,
   "id": "c2dbacb7",
   "metadata": {
    "scrolled": true
   },
   "outputs": [
    {
     "name": "stdout",
     "output_type": "stream",
     "text": [
      "<class 'pandas.core.frame.DataFrame'>\n",
      "RangeIndex: 7043 entries, 0 to 7042\n",
      "Data columns (total 18 columns):\n",
      " #   Column                           Non-Null Count  Dtype  \n",
      "---  ------                           --------------  -----  \n",
      " 0   Tenure Months                    7043 non-null   int64  \n",
      " 1   Internet Service_Fiber optic     7043 non-null   int32  \n",
      " 2   Dependents                       7043 non-null   int64  \n",
      " 3   Payment Method_Electronic check  7043 non-null   int32  \n",
      " 4   Internet Service_No              7043 non-null   int32  \n",
      " 5   Online Security                  7043 non-null   int64  \n",
      " 6   Contract_One year                7043 non-null   int32  \n",
      " 7   Contract_Two year                7043 non-null   int32  \n",
      " 8   Paperless Billing                7043 non-null   int64  \n",
      " 9   Tech Support                     7043 non-null   int64  \n",
      " 10  Streaming Movies                 7043 non-null   int64  \n",
      " 11  Partner                          7043 non-null   int64  \n",
      " 12  Phone Service                    7043 non-null   int64  \n",
      " 13  Multiple Lines                   7043 non-null   int64  \n",
      " 14  Streaming TV                     7043 non-null   int64  \n",
      " 15  prob_not_churn                   7043 non-null   float64\n",
      " 16  prob_churn                       7043 non-null   float64\n",
      " 17  prediction                       7043 non-null   int32  \n",
      "dtypes: float64(2), int32(6), int64(10)\n",
      "memory usage: 825.5 KB\n"
     ]
    }
   ],
   "source": [
    "predictions.info()"
   ]
  },
  {
   "cell_type": "code",
   "execution_count": 71,
   "id": "3921cb29",
   "metadata": {
    "scrolled": true
   },
   "outputs": [
    {
     "name": "stderr",
     "output_type": "stream",
     "text": [
      "C:\\Users\\danih\\AppData\\Local\\Temp\\ipykernel_48616\\3026312648.py:1: SettingWithCopyWarning: \n",
      "A value is trying to be set on a copy of a slice from a DataFrame.\n",
      "Try using .loc[row_indexer,col_indexer] = value instead\n",
      "\n",
      "See the caveats in the documentation: https://pandas.pydata.org/pandas-docs/stable/user_guide/indexing.html#returning-a-view-versus-a-copy\n",
      "  predictions['CustomerID'] = df['CustomerID']\n"
     ]
    }
   ],
   "source": [
    "predictions['CustomerID'] = df['CustomerID']"
   ]
  },
  {
   "cell_type": "code",
   "execution_count": 80,
   "id": "527f1876",
   "metadata": {},
   "outputs": [
    {
     "name": "stderr",
     "output_type": "stream",
     "text": [
      "C:\\Users\\danih\\AppData\\Local\\Temp\\ipykernel_48616\\1169579060.py:1: SettingWithCopyWarning: \n",
      "A value is trying to be set on a copy of a slice from a DataFrame.\n",
      "Try using .loc[row_indexer,col_indexer] = value instead\n",
      "\n",
      "See the caveats in the documentation: https://pandas.pydata.org/pandas-docs/stable/user_guide/indexing.html#returning-a-view-versus-a-copy\n",
      "  predictions['Churn Value'] = df['Churn Value']\n"
     ]
    }
   ],
   "source": [
    "predictions['Churn Value'] = df['Churn Value']"
   ]
  },
  {
   "cell_type": "code",
   "execution_count": 89,
   "id": "74d8fab0",
   "metadata": {
    "scrolled": true
   },
   "outputs": [
    {
     "data": {
      "text/html": [
       "<div>\n",
       "<style scoped>\n",
       "    .dataframe tbody tr th:only-of-type {\n",
       "        vertical-align: middle;\n",
       "    }\n",
       "\n",
       "    .dataframe tbody tr th {\n",
       "        vertical-align: top;\n",
       "    }\n",
       "\n",
       "    .dataframe thead th {\n",
       "        text-align: right;\n",
       "    }\n",
       "</style>\n",
       "<table border=\"1\" class=\"dataframe\">\n",
       "  <thead>\n",
       "    <tr style=\"text-align: right;\">\n",
       "      <th></th>\n",
       "      <th>Tenure Months</th>\n",
       "      <th>Internet Service_Fiber optic</th>\n",
       "      <th>Dependents</th>\n",
       "      <th>Payment Method_Electronic check</th>\n",
       "      <th>Internet Service_No</th>\n",
       "      <th>Online Security</th>\n",
       "      <th>Contract_One year</th>\n",
       "      <th>Contract_Two year</th>\n",
       "      <th>Paperless Billing</th>\n",
       "      <th>Tech Support</th>\n",
       "      <th>Streaming Movies</th>\n",
       "      <th>Partner</th>\n",
       "      <th>Phone Service</th>\n",
       "      <th>Multiple Lines</th>\n",
       "      <th>Streaming TV</th>\n",
       "      <th>prob_not_churn</th>\n",
       "      <th>prob_churn</th>\n",
       "      <th>prediction</th>\n",
       "      <th>CustomerID</th>\n",
       "      <th>Churn Value</th>\n",
       "    </tr>\n",
       "  </thead>\n",
       "  <tbody>\n",
       "    <tr>\n",
       "      <th>0</th>\n",
       "      <td>2</td>\n",
       "      <td>0</td>\n",
       "      <td>0</td>\n",
       "      <td>0</td>\n",
       "      <td>0</td>\n",
       "      <td>1</td>\n",
       "      <td>0</td>\n",
       "      <td>0</td>\n",
       "      <td>1</td>\n",
       "      <td>0</td>\n",
       "      <td>0</td>\n",
       "      <td>0</td>\n",
       "      <td>1</td>\n",
       "      <td>0</td>\n",
       "      <td>0</td>\n",
       "      <td>0.420216</td>\n",
       "      <td>0.579784</td>\n",
       "      <td>1</td>\n",
       "      <td>3668-QPYBK</td>\n",
       "      <td>1</td>\n",
       "    </tr>\n",
       "    <tr>\n",
       "      <th>1</th>\n",
       "      <td>2</td>\n",
       "      <td>1</td>\n",
       "      <td>1</td>\n",
       "      <td>1</td>\n",
       "      <td>0</td>\n",
       "      <td>0</td>\n",
       "      <td>0</td>\n",
       "      <td>0</td>\n",
       "      <td>1</td>\n",
       "      <td>0</td>\n",
       "      <td>0</td>\n",
       "      <td>0</td>\n",
       "      <td>1</td>\n",
       "      <td>0</td>\n",
       "      <td>0</td>\n",
       "      <td>0.433734</td>\n",
       "      <td>0.566266</td>\n",
       "      <td>1</td>\n",
       "      <td>9237-HQITU</td>\n",
       "      <td>1</td>\n",
       "    </tr>\n",
       "    <tr>\n",
       "      <th>2</th>\n",
       "      <td>8</td>\n",
       "      <td>1</td>\n",
       "      <td>1</td>\n",
       "      <td>1</td>\n",
       "      <td>0</td>\n",
       "      <td>0</td>\n",
       "      <td>0</td>\n",
       "      <td>0</td>\n",
       "      <td>1</td>\n",
       "      <td>0</td>\n",
       "      <td>1</td>\n",
       "      <td>0</td>\n",
       "      <td>1</td>\n",
       "      <td>1</td>\n",
       "      <td>1</td>\n",
       "      <td>0.289808</td>\n",
       "      <td>0.710192</td>\n",
       "      <td>1</td>\n",
       "      <td>9305-CDSKC</td>\n",
       "      <td>1</td>\n",
       "    </tr>\n",
       "    <tr>\n",
       "      <th>3</th>\n",
       "      <td>28</td>\n",
       "      <td>1</td>\n",
       "      <td>1</td>\n",
       "      <td>1</td>\n",
       "      <td>0</td>\n",
       "      <td>0</td>\n",
       "      <td>0</td>\n",
       "      <td>0</td>\n",
       "      <td>1</td>\n",
       "      <td>1</td>\n",
       "      <td>1</td>\n",
       "      <td>1</td>\n",
       "      <td>1</td>\n",
       "      <td>1</td>\n",
       "      <td>1</td>\n",
       "      <td>0.438350</td>\n",
       "      <td>0.561650</td>\n",
       "      <td>1</td>\n",
       "      <td>7892-POOKP</td>\n",
       "      <td>1</td>\n",
       "    </tr>\n",
       "    <tr>\n",
       "      <th>4</th>\n",
       "      <td>49</td>\n",
       "      <td>1</td>\n",
       "      <td>1</td>\n",
       "      <td>0</td>\n",
       "      <td>0</td>\n",
       "      <td>0</td>\n",
       "      <td>0</td>\n",
       "      <td>0</td>\n",
       "      <td>1</td>\n",
       "      <td>0</td>\n",
       "      <td>1</td>\n",
       "      <td>0</td>\n",
       "      <td>1</td>\n",
       "      <td>1</td>\n",
       "      <td>1</td>\n",
       "      <td>0.705204</td>\n",
       "      <td>0.294796</td>\n",
       "      <td>0</td>\n",
       "      <td>0280-XJGEX</td>\n",
       "      <td>1</td>\n",
       "    </tr>\n",
       "  </tbody>\n",
       "</table>\n",
       "</div>"
      ],
      "text/plain": [
       "   Tenure Months  Internet Service_Fiber optic  Dependents  \\\n",
       "0              2                             0           0   \n",
       "1              2                             1           1   \n",
       "2              8                             1           1   \n",
       "3             28                             1           1   \n",
       "4             49                             1           1   \n",
       "\n",
       "   Payment Method_Electronic check  Internet Service_No  Online Security  \\\n",
       "0                                0                    0                1   \n",
       "1                                1                    0                0   \n",
       "2                                1                    0                0   \n",
       "3                                1                    0                0   \n",
       "4                                0                    0                0   \n",
       "\n",
       "   Contract_One year  Contract_Two year  Paperless Billing  Tech Support  \\\n",
       "0                  0                  0                  1             0   \n",
       "1                  0                  0                  1             0   \n",
       "2                  0                  0                  1             0   \n",
       "3                  0                  0                  1             1   \n",
       "4                  0                  0                  1             0   \n",
       "\n",
       "   Streaming Movies  Partner  Phone Service  Multiple Lines  Streaming TV  \\\n",
       "0                 0        0              1               0             0   \n",
       "1                 0        0              1               0             0   \n",
       "2                 1        0              1               1             1   \n",
       "3                 1        1              1               1             1   \n",
       "4                 1        0              1               1             1   \n",
       "\n",
       "   prob_not_churn  prob_churn  prediction  CustomerID  Churn Value  \n",
       "0        0.420216    0.579784           1  3668-QPYBK            1  \n",
       "1        0.433734    0.566266           1  9237-HQITU            1  \n",
       "2        0.289808    0.710192           1  9305-CDSKC            1  \n",
       "3        0.438350    0.561650           1  7892-POOKP            1  \n",
       "4        0.705204    0.294796           0  0280-XJGEX            1  "
      ]
     },
     "execution_count": 89,
     "metadata": {},
     "output_type": "execute_result"
    }
   ],
   "source": [
    "predictions.head()"
   ]
  },
  {
   "cell_type": "code",
   "execution_count": 90,
   "id": "d35aa1dd",
   "metadata": {},
   "outputs": [],
   "source": [
    "pred_prob = predictions[predictions['Churn Value'] == 0]"
   ]
  },
  {
   "cell_type": "code",
   "execution_count": 91,
   "id": "33359f99",
   "metadata": {},
   "outputs": [],
   "source": [
    "pred_prob = pred_prob[['prob_churn', 'CustomerID']]"
   ]
  },
  {
   "cell_type": "code",
   "execution_count": 101,
   "id": "8399d4f2",
   "metadata": {},
   "outputs": [],
   "source": [
    "top_risk_churn = pred_prob.sort_values(by='prob_churn',ascending = False).reset_index()"
   ]
  },
  {
   "cell_type": "code",
   "execution_count": 103,
   "id": "4a170316",
   "metadata": {},
   "outputs": [],
   "source": [
    "top_500_risk_churn = top_risk_churn.head(500)"
   ]
  },
  {
   "cell_type": "code",
   "execution_count": 104,
   "id": "977e3cf3",
   "metadata": {},
   "outputs": [],
   "source": [
    "rest_risk_churn = top_risk_churn[top_risk_churn.index > 499]"
   ]
  },
  {
   "cell_type": "code",
   "execution_count": 107,
   "id": "68b5d99a",
   "metadata": {},
   "outputs": [],
   "source": [
    "top_500_risk_churn.to_csv(\"Top 500 risk to churn.csv\", index=False)"
   ]
  },
  {
   "cell_type": "code",
   "execution_count": 108,
   "id": "6f04a6af",
   "metadata": {},
   "outputs": [],
   "source": [
    "rest_risk_churn.to_csv(\"List of risk to churn.csv\", index=False)"
   ]
  }
 ],
 "metadata": {
  "kernelspec": {
   "display_name": "Python 3 (ipykernel)",
   "language": "python",
   "name": "python3"
  },
  "language_info": {
   "codemirror_mode": {
    "name": "ipython",
    "version": 3
   },
   "file_extension": ".py",
   "mimetype": "text/x-python",
   "name": "python",
   "nbconvert_exporter": "python",
   "pygments_lexer": "ipython3",
   "version": "3.11.7"
  }
 },
 "nbformat": 4,
 "nbformat_minor": 5
}
